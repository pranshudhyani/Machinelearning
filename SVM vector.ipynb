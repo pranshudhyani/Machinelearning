{
 "cells": [
  {
   "cell_type": "markdown",
   "metadata": {},
   "source": [
    "SVM(Support vector machines)\n",
    "1. Used to solve both classification and regression problems\n",
    "2. SVM makes hyperplanes to differentiate the data, now the SVM makes sure that there is a marginal difference between the 2 seperated datasets, so that they are easily linearly seperable\n",
    "3. Creates 3 hyperplanes in such a way that,\n",
    "    a. first one passes through the nearest positive point(marginal plane 1)\n",
    "    b. second one passes throught the nearest negative point(marginal plane 2)\n",
    "    c. third one passes in between the 2 above planes so that a plane that divides the data is created\n",
    "    NOTE:- all these 3 hyperplanes are always parallel to each other\n",
    "4. We select the hyperplane that has the maximum marginal distance i.e the difference between the distance of 1. and 2. hyperplane, so that we have an area of cushion \n",
    "\n",
    "SUPPORT VECTORS:-\n",
    "1.are the points that lie on marginal planes\n"
   ]
  },
  {
   "cell_type": "code",
   "execution_count": null,
   "metadata": {},
   "outputs": [],
   "source": []
  },
  {
   "cell_type": "markdown",
   "metadata": {},
   "source": [
    "SVM IDEAS:-\n",
    "\n",
    "1. Start with data in a lower dimension\n",
    "2. Get the data in a higher dimension\n",
    "3. Not try to find a best fit vector that divides the data into 2 parts\n",
    "4. Not find the hyperplane that best divides the data as we have seen by the above definintion "
   ]
  },
  {
   "cell_type": "code",
   "execution_count": 1,
   "metadata": {},
   "outputs": [],
   "source": [
    "import pandas as pd\n",
    "import numpy as np\n",
    "from sklearn.preprocessing import StandardScaler      #Standardize the data for SVM\n",
    "from sklearn.model_selection import train_test_split\n",
    "from sklearn import svm\n",
    "from sklearn.metrics import accuracy_score\n",
    "\n"
   ]
  }
 ],
 "metadata": {
  "kernelspec": {
   "display_name": "Python 3.9.12 ('base')",
   "language": "python",
   "name": "python3"
  },
  "language_info": {
   "codemirror_mode": {
    "name": "ipython",
    "version": 3
   },
   "file_extension": ".py",
   "mimetype": "text/x-python",
   "name": "python",
   "nbconvert_exporter": "python",
   "pygments_lexer": "ipython3",
   "version": "3.9.12"
  },
  "orig_nbformat": 4,
  "vscode": {
   "interpreter": {
    "hash": "ea06a9024c4d11ba421ec589971f0e0980cf52fd304f8242228e6df0f7b65230"
   }
  }
 },
 "nbformat": 4,
 "nbformat_minor": 2
}
